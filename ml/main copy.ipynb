{
  "cells": [
    {
      "cell_type": "markdown",
      "metadata": {},
      "source": [
        ">#### dataset: https://grouplens.org/datasets/movielens/\n",
        "\n",
        ">#### latest-small[1MB-->3MB]: https://files.grouplens.org/datasets/movielens/ml-latest-small.zip\n",
        "#### Small: 100,000 ratings and 3,600 tag applications applied to 9,000 movies by 600 users. Last updated 9/2018.\n",
        "\n",
        ">#### latest[335MB-->1.5GB]: https://grouplens.org/datasets/movielens/latest/\n",
        "#### Full: approximately 33,000,000 ratings and 2,000,000 tag applications applied to 86,000 movies by 330,975 users. \n",
        "#### Includes tag genome data with 14 million relevance scores across 1,100 tags. Last updated 9/2018.\n",
        "\n",
        ">#### ml-25m[250MB-->1.2GB]: https://grouplens.org/datasets/movielens/25m/ \n",
        " #### MovieLens 25M movie ratings. Stable benchmark dataset. 25 million ratings and one million tag applications applied to 62,000 movies \n",
        " #### by 162,000 users. Includes tag genome data with 15 million relevance scores across 1,129 tags. Released 12/2019 "
      ]
    },
    {
      "cell_type": "code",
      "execution_count": 1,
      "metadata": {
        "colab": {},
        "colab_type": "code",
        "id": "_LvGeU1CeCtg"
      },
      "outputs": [],
      "source": [
        "import numpy as np\n",
        "import pandas as pd\n",
        "import torch\n",
        "import torch.nn as nn\n",
        "import torch.nn.parallel\n",
        "import torch.optim as optim\n",
        "import torch.utils.data\n",
        "from torch.autograd import Variable\n"
      ]
    },
    {
      "cell_type": "code",
      "execution_count": 2,
      "metadata": {},
      "outputs": [
        {
          "data": {
            "text/plain": [
              "device(type='cuda')"
            ]
          },
          "execution_count": 2,
          "metadata": {},
          "output_type": "execute_result"
        }
      ],
      "source": [
        "#ENABLING CUDA\n",
        "device = torch.device(\"cuda\" if torch.cuda.is_available() else \"cpu\")\n",
        "device"
      ]
    },
    {
      "cell_type": "code",
      "execution_count": 3,
      "metadata": {
        "colab": {},
        "colab_type": "code",
        "id": "2usLKJBEgPE2"
      },
      "outputs": [],
      "source": [
        "df = pd.read_csv('datasets/ml-25m/ratings.csv', nrows=100000)\n"
      ]
    },
    {
      "cell_type": "code",
      "execution_count": 4,
      "metadata": {},
      "outputs": [],
      "source": [
        "df.drop(['timestamp'], axis=1, inplace=True)"
      ]
    },
    {
      "cell_type": "code",
      "execution_count": 17,
      "metadata": {},
      "outputs": [
        {
          "data": {
            "text/html": [
              "<div>\n",
              "<style scoped>\n",
              "    .dataframe tbody tr th:only-of-type {\n",
              "        vertical-align: middle;\n",
              "    }\n",
              "\n",
              "    .dataframe tbody tr th {\n",
              "        vertical-align: top;\n",
              "    }\n",
              "\n",
              "    .dataframe thead th {\n",
              "        text-align: right;\n",
              "    }\n",
              "</style>\n",
              "<table border=\"1\" class=\"dataframe\">\n",
              "  <thead>\n",
              "    <tr style=\"text-align: right;\">\n",
              "      <th></th>\n",
              "      <th>userId</th>\n",
              "      <th>movieId</th>\n",
              "      <th>rating</th>\n",
              "    </tr>\n",
              "  </thead>\n",
              "  <tbody>\n",
              "    <tr>\n",
              "      <th>0</th>\n",
              "      <td>1</td>\n",
              "      <td>296</td>\n",
              "      <td>5.0</td>\n",
              "    </tr>\n",
              "    <tr>\n",
              "      <th>1</th>\n",
              "      <td>1</td>\n",
              "      <td>306</td>\n",
              "      <td>3.5</td>\n",
              "    </tr>\n",
              "    <tr>\n",
              "      <th>2</th>\n",
              "      <td>1</td>\n",
              "      <td>307</td>\n",
              "      <td>5.0</td>\n",
              "    </tr>\n",
              "    <tr>\n",
              "      <th>3</th>\n",
              "      <td>1</td>\n",
              "      <td>665</td>\n",
              "      <td>5.0</td>\n",
              "    </tr>\n",
              "    <tr>\n",
              "      <th>4</th>\n",
              "      <td>1</td>\n",
              "      <td>899</td>\n",
              "      <td>3.5</td>\n",
              "    </tr>\n",
              "    <tr>\n",
              "      <th>...</th>\n",
              "      <td>...</td>\n",
              "      <td>...</td>\n",
              "      <td>...</td>\n",
              "    </tr>\n",
              "    <tr>\n",
              "      <th>99995</th>\n",
              "      <td>757</td>\n",
              "      <td>2115</td>\n",
              "      <td>3.0</td>\n",
              "    </tr>\n",
              "    <tr>\n",
              "      <th>99996</th>\n",
              "      <td>757</td>\n",
              "      <td>2117</td>\n",
              "      <td>3.0</td>\n",
              "    </tr>\n",
              "    <tr>\n",
              "      <th>99997</th>\n",
              "      <td>757</td>\n",
              "      <td>2118</td>\n",
              "      <td>4.0</td>\n",
              "    </tr>\n",
              "    <tr>\n",
              "      <th>99998</th>\n",
              "      <td>757</td>\n",
              "      <td>2124</td>\n",
              "      <td>3.5</td>\n",
              "    </tr>\n",
              "    <tr>\n",
              "      <th>99999</th>\n",
              "      <td>757</td>\n",
              "      <td>2132</td>\n",
              "      <td>5.0</td>\n",
              "    </tr>\n",
              "  </tbody>\n",
              "</table>\n",
              "<p>100000 rows × 3 columns</p>\n",
              "</div>"
            ],
            "text/plain": [
              "       userId  movieId  rating\n",
              "0           1      296     5.0\n",
              "1           1      306     3.5\n",
              "2           1      307     5.0\n",
              "3           1      665     5.0\n",
              "4           1      899     3.5\n",
              "...       ...      ...     ...\n",
              "99995     757     2115     3.0\n",
              "99996     757     2117     3.0\n",
              "99997     757     2118     4.0\n",
              "99998     757     2124     3.5\n",
              "99999     757     2132     5.0\n",
              "\n",
              "[100000 rows x 3 columns]"
            ]
          },
          "execution_count": 17,
          "metadata": {},
          "output_type": "execute_result"
        }
      ],
      "source": [
        "df"
      ]
    },
    {
      "cell_type": "code",
      "execution_count": 5,
      "metadata": {},
      "outputs": [
        {
          "data": {
            "text/plain": [
              "(100000, 3)"
            ]
          },
          "execution_count": 5,
          "metadata": {},
          "output_type": "execute_result"
        }
      ],
      "source": [
        "X = np.array(df, dtype = 'int')\n",
        "X.shape"
      ]
    },
    {
      "cell_type": "code",
      "execution_count": 19,
      "metadata": {},
      "outputs": [
        {
          "data": {
            "text/plain": [
              "userId     0\n",
              "movieId    0\n",
              "rating     0\n",
              "dtype: int64"
            ]
          },
          "execution_count": 19,
          "metadata": {},
          "output_type": "execute_result"
        }
      ],
      "source": [
        "df.isna().sum()"
      ]
    },
    {
      "cell_type": "code",
      "execution_count": 6,
      "metadata": {},
      "outputs": [],
      "source": [
        "from sklearn.model_selection import train_test_split\n",
        "X_train,X_test = train_test_split(X,test_size=0.2, random_state=42)"
      ]
    },
    {
      "cell_type": "code",
      "execution_count": 7,
      "metadata": {},
      "outputs": [
        {
          "data": {
            "text/plain": [
              "(80000, 3)"
            ]
          },
          "execution_count": 7,
          "metadata": {},
          "output_type": "execute_result"
        }
      ],
      "source": [
        "X_train.shape"
      ]
    },
    {
      "cell_type": "code",
      "execution_count": 8,
      "metadata": {},
      "outputs": [
        {
          "data": {
            "text/plain": [
              "(20000, 3)"
            ]
          },
          "execution_count": 8,
          "metadata": {},
          "output_type": "execute_result"
        }
      ],
      "source": [
        "X_test.shape"
      ]
    },
    {
      "cell_type": "code",
      "execution_count": 11,
      "metadata": {},
      "outputs": [],
      "source": [
        "import gc"
      ]
    },
    {
      "cell_type": "code",
      "execution_count": 12,
      "metadata": {},
      "outputs": [],
      "source": [
        "# del df\n",
        "# gc.collect()"
      ]
    },
    {
      "cell_type": "code",
      "execution_count": 13,
      "metadata": {},
      "outputs": [],
      "source": [
        "# del X\n",
        "# gc.collect()"
      ]
    },
    {
      "cell_type": "code",
      "execution_count": 9,
      "metadata": {
        "colab": {},
        "colab_type": "code",
        "id": "gPaGZqdniC5m"
      },
      "outputs": [],
      "source": [
        "nb_users = int(max(max(X_train[:, 0], ), max(X_test[:, 0])))\n",
        "nb_movies = int(max(max(X_train[:, 1], ), max(X_test[:, 1])))"
      ]
    },
    {
      "cell_type": "code",
      "execution_count": 24,
      "metadata": {},
      "outputs": [
        {
          "data": {
            "text/plain": [
              "206272"
            ]
          },
          "execution_count": 24,
          "metadata": {},
          "output_type": "execute_result"
        }
      ],
      "source": [
        "nb_movies"
      ]
    },
    {
      "cell_type": "code",
      "execution_count": 25,
      "metadata": {},
      "outputs": [
        {
          "data": {
            "text/plain": [
              "757"
            ]
          },
          "execution_count": 25,
          "metadata": {},
          "output_type": "execute_result"
        }
      ],
      "source": [
        "nb_users"
      ]
    },
    {
      "cell_type": "code",
      "execution_count": 10,
      "metadata": {
        "colab": {},
        "colab_type": "code",
        "id": "-wASs2YFiDaa"
      },
      "outputs": [],
      "source": [
        "def convert(data):\n",
        "  new_data = []\n",
        "  for id_users in range(1, nb_users + 1):\n",
        "    id_movies = data[:, 1] [data[:, 0] == id_users]\n",
        "    id_ratings = data[:, 2] [data[:, 0] == id_users]\n",
        "    ratings = np.zeros(nb_movies)\n",
        "    ratings[id_movies - 1] = id_ratings\n",
        "    new_data.append(list(ratings))\n",
        "  return new_data\n",
        "X_train = convert(X_train)\n",
        "X_test = convert(X_test)\n",
        "\n"
      ]
    },
    {
      "cell_type": "code",
      "execution_count": 11,
      "metadata": {},
      "outputs": [],
      "source": [
        "X_train = torch.FloatTensor(X_train)\n",
        "X_test = torch.FloatTensor(X_test) "
      ]
    },
    {
      "cell_type": "code",
      "execution_count": 12,
      "metadata": {
        "colab": {},
        "colab_type": "code",
        "id": "oU2nyh76iE6M"
      },
      "outputs": [],
      "source": [
        "# class SAE(nn.Module):\n",
        "#     def __init__(self, ):\n",
        "#         super(SAE, self).__init__()\n",
        "#         self.encoder = nn.Sequential(\n",
        "#             nn.Linear(nb_movies, 128),\n",
        "#             nn.ReLU(),\n",
        "#             nn.Linear(128, 64),\n",
        "#             nn.ReLU(),\n",
        "#             nn.Linear(64, 32),\n",
        "#             nn.ReLU(),\n",
        "#             # nn.Linear(32, 16),\n",
        "#             # nn.ReLU()\n",
        "#         )\n",
        "#         self.decoder = nn.Sequential(\n",
        "#             # nn.Linear(16, 32),\n",
        "#             # nn.ReLU(),\n",
        "#             nn.Linear(32, 64),\n",
        "#             nn.ReLU(),\n",
        "#             nn.Linear(64, 128),\n",
        "#             nn.ReLU(),\n",
        "#             nn.Linear(128, nb_movies),\n",
        "#             nn.Sigmoid()\n",
        "#         )\n",
        "\n",
        "#     def forward(self, x):\n",
        "#         x = self.encoder(x)\n",
        "#         x = self.decoder(x)\n",
        "#         return x\n",
        "    \n",
        "# sae = SAE()\n",
        "# criterion = nn.MSELoss()\n",
        "# optimizer = optim.RMSprop(sae.parameters(), lr = 0.01, weight_decay = 0.5)\n",
        "\n",
        "\n",
        "\n",
        "class SAE(nn.Module):\n",
        "    def __init__(self, ):  \n",
        "        super(SAE, self).__init__() \n",
        "        self.fc1 = nn.Linear(nb_movies, 720)               \n",
        "        self.fc2 = nn.Linear(720,360)\n",
        "        self.fc3 = nn.Linear(360,180)    \n",
        "        self.fc4 = nn.Linear(180,360)                           \n",
        "        self.fc5 = nn.Linear(360,720)    \n",
        "        self.fc6 = nn.Linear(720,nb_movies)             \n",
        "        self.activation = nn.Sigmoid()\n",
        "\n",
        "    def forward(self, x):           \n",
        "        x = self.activation(self.fc1(x))  \n",
        "        x = self.activation(self.fc2(x))\n",
        "        x = self.activation(self.fc3(x)) \n",
        "        x = self.activation(self.fc4(x))   \n",
        "        x = self.activation(self.fc5(x))                               \n",
        "        x = self.fc6(x)                    \n",
        "                                           \n",
        "        return x\n",
        "sae = SAE().to(device)\n",
        "# sae = SAE()\n",
        "criterion = nn.MSELoss()\n",
        "optimizer = optim.RMSprop(sae.parameters(), lr= 0.01, weight_decay= 0.5) \n",
        "#train loss of 2.0 ...."
      ]
    },
    {
      "cell_type": "code",
      "execution_count": 14,
      "metadata": {},
      "outputs": [],
      "source": [
        "class SAE(nn.Module):\n",
        "    def __init__(self, ):  \n",
        "        super(SAE, self).__init__() \n",
        "        self.fc1 = nn.Linear(nb_movies, 128)               \n",
        "        self.fc2 = nn.Linear(128,64)\n",
        "        self.fc3 = nn.Linear(64,32)    \n",
        "        self.fc4 = nn.Linear(32,16)                           \n",
        "        self.fc5 = nn.Linear(16,32)   \n",
        "        self.fc6 = nn.Linear(32,64)    \n",
        "        self.fc7 = nn.Linear(64,128)                \n",
        "        self.fc8 = nn.Linear(128,nb_movies)               \n",
        "        self.activation = nn.Sigmoid()\n",
        "\n",
        "    def forward(self, x):           \n",
        "        x = self.activation(self.fc1(x))  \n",
        "        x = self.activation(self.fc2(x))\n",
        "        x = self.activation(self.fc3(x)) \n",
        "        x = self.activation(self.fc4(x)) \n",
        "        x = self.activation(self.fc5(x)) \n",
        "        x = self.activation(self.fc6(x)) \n",
        "        x = self.activation(self.fc7(x))                                  \n",
        "        x = self.fc8(x)                    \n",
        "                                           \n",
        "        return x\n",
        "sae = SAE().to(device)\n",
        "# sae = SAE()\n",
        "criterion = nn.MSELoss()\n",
        "optimizer = optim.RMSprop(sae.parameters(), lr= 0.01, weight_decay= 0.5) "
      ]
    },
    {
      "cell_type": "code",
      "execution_count": 19,
      "metadata": {
        "colab": {
          "base_uri": "https://localhost:8080/",
          "height": 1000
        },
        "colab_type": "code",
        "id": "FEz9hRaciFTs",
        "outputId": "0f6ed0d0-09c4-46c0-bfe6-70031d76b491"
      },
      "outputs": [
        {
          "name": "stdout",
          "output_type": "stream",
          "text": [
            "epoch: 1 loss: tensor(1.2561, device='cuda:0')\n",
            "epoch: 2 loss: tensor(1.1799, device='cuda:0')\n",
            "epoch: 3 loss: tensor(1.2507, device='cuda:0')\n",
            "epoch: 4 loss: tensor(1.1752, device='cuda:0')\n",
            "epoch: 5 loss: tensor(1.2454, device='cuda:0')\n",
            "epoch: 6 loss: tensor(1.1706, device='cuda:0')\n",
            "epoch: 7 loss: tensor(1.2404, device='cuda:0')\n",
            "epoch: 8 loss: tensor(1.1662, device='cuda:0')\n",
            "epoch: 9 loss: tensor(1.2356, device='cuda:0')\n",
            "epoch: 10 loss: tensor(1.1620, device='cuda:0')\n",
            "epoch: 11 loss: tensor(1.2309, device='cuda:0')\n",
            "epoch: 12 loss: tensor(1.1580, device='cuda:0')\n",
            "epoch: 13 loss: tensor(1.2265, device='cuda:0')\n",
            "epoch: 14 loss: tensor(1.1542, device='cuda:0')\n",
            "epoch: 15 loss: tensor(1.2221, device='cuda:0')\n",
            "epoch: 16 loss: tensor(1.1505, device='cuda:0')\n",
            "epoch: 17 loss: tensor(1.2180, device='cuda:0')\n",
            "epoch: 18 loss: tensor(1.1469, device='cuda:0')\n",
            "epoch: 19 loss: tensor(1.2140, device='cuda:0')\n",
            "epoch: 20 loss: tensor(1.1435, device='cuda:0')\n"
          ]
        }
      ],
      "source": [
        "nb_epoch = 20 #30+10+20+20+20 =100 epochs\n",
        "for epoch in range(1, nb_epoch + 1):\n",
        "  train_loss = 0\n",
        "  s = 0.\n",
        "  for id_user in range(nb_users):\n",
        "    input = Variable(X_train[id_user]).unsqueeze(0).to(device)\n",
        "    target = input.clone().to(device)\n",
        "    if torch.sum(target.data > 0) > 0:\n",
        "      output = sae(input)\n",
        "      target.require_grad = False\n",
        "      output[target == 0] = 0\n",
        "      loss = criterion(output, target)\n",
        "      mean_corrector = nb_movies/float(torch.sum(target.data > 0) + 1e-10)\n",
        "      loss.backward()\n",
        "      train_loss += torch.sqrt(loss.data*mean_corrector)\n",
        "      s += 1.\n",
        "      optimizer.step()\n",
        "  print('epoch: '+str(epoch)+' loss: '+ str(train_loss/s))"
      ]
    },
    {
      "cell_type": "markdown",
      "metadata": {
        "colab_type": "text",
        "id": "Bak5uc8gd-gX"
      },
      "source": [
        "## testing the SAE\n"
      ]
    },
    {
      "cell_type": "code",
      "execution_count": 20,
      "metadata": {
        "colab": {
          "base_uri": "https://localhost:8080/",
          "height": 34
        },
        "colab_type": "code",
        "id": "5ztvzYRtiGCz",
        "outputId": "d0e8ea8b-9ac4-40e5-a19a-7fcfc6934d61"
      },
      "outputs": [
        {
          "name": "stdout",
          "output_type": "stream",
          "text": [
            "test loss: tensor(1.2449, device='cuda:0')\n"
          ]
        }
      ],
      "source": [
        "test_loss = 0\n",
        "s = 0.\n",
        "for id_user in range(nb_users):\n",
        "  input = Variable(X_train[id_user]).unsqueeze(0).to(device)\n",
        "  target = Variable(X_test[id_user]).unsqueeze(0).to(device)\n",
        "  if torch.sum(target.data > 0) > 0:\n",
        "    output = sae(input)\n",
        "    target.require_grad = False\n",
        "    output[target == 0] = 0\n",
        "    loss = criterion(output, target)\n",
        "    mean_corrector = nb_movies/float(torch.sum(target.data > 0) + 1e-10)\n",
        "    test_loss += torch.sqrt(loss.data*mean_corrector)\n",
        "    s += 1.\n",
        "print('test loss: '+str(test_loss/s))\n"
      ]
    },
    {
      "cell_type": "markdown",
      "metadata": {},
      "source": [
        "## saving the model\n"
      ]
    },
    {
      "cell_type": "code",
      "execution_count": null,
      "metadata": {},
      "outputs": [],
      "source": [
        "torch.save(sae.state_dict(), 'sae_model_state_dicttest.pth')"
      ]
    },
    {
      "cell_type": "code",
      "execution_count": 26,
      "metadata": {},
      "outputs": [],
      "source": [
        "torch.save(sae, 'sae_model_raw.pth')"
      ]
    },
    {
      "cell_type": "markdown",
      "metadata": {},
      "source": [
        "## loading in the model\n"
      ]
    },
    {
      "cell_type": "code",
      "execution_count": 29,
      "metadata": {},
      "outputs": [
        {
          "data": {
            "text/plain": [
              "SAE(\n",
              "  (fc1): Linear(in_features=206272, out_features=128, bias=True)\n",
              "  (fc2): Linear(in_features=128, out_features=64, bias=True)\n",
              "  (fc3): Linear(in_features=64, out_features=32, bias=True)\n",
              "  (fc4): Linear(in_features=32, out_features=16, bias=True)\n",
              "  (fc5): Linear(in_features=16, out_features=32, bias=True)\n",
              "  (fc6): Linear(in_features=32, out_features=64, bias=True)\n",
              "  (fc7): Linear(in_features=64, out_features=128, bias=True)\n",
              "  (fc8): Linear(in_features=128, out_features=206272, bias=True)\n",
              "  (activation): Sigmoid()\n",
              ")"
            ]
          },
          "execution_count": 29,
          "metadata": {},
          "output_type": "execute_result"
        }
      ],
      "source": [
        "inference_sae = SAE()\n",
        "inference_sae.load_state_dict(torch.load('sae_model_state_dict.pth'))\n",
        "inference_sae.eval()"
      ]
    },
    {
      "cell_type": "markdown",
      "metadata": {},
      "source": [
        "## making inferences"
      ]
    },
    {
      "cell_type": "code",
      "execution_count": 30,
      "metadata": {},
      "outputs": [
        {
          "data": {
            "text/plain": [
              "tensor([[4.0497, 3.4818, 2.7945,  ..., 0.0048, 0.0050, 0.4756],\n",
              "        [4.0497, 3.4818, 2.7945,  ..., 0.0048, 0.0050, 0.4756],\n",
              "        [4.0497, 3.4818, 2.7945,  ..., 0.0048, 0.0050, 0.4756],\n",
              "        ...,\n",
              "        [4.0497, 3.4818, 2.7945,  ..., 0.0048, 0.0050, 0.4756],\n",
              "        [4.0497, 3.4818, 2.7945,  ..., 0.0048, 0.0050, 0.4756],\n",
              "        [4.0497, 3.4818, 2.7945,  ..., 0.0048, 0.0050, 0.4756]])"
            ]
          },
          "execution_count": 30,
          "metadata": {},
          "output_type": "execute_result"
        }
      ],
      "source": [
        "with torch.inference_mode():\n",
        "    inference_sae_preds = inference_sae(X_test)\n",
        "inference_sae_preds"
      ]
    },
    {
      "cell_type": "code",
      "execution_count": 31,
      "metadata": {},
      "outputs": [],
      "source": [
        "#testing if same\n",
        "sae.to('cpu')\n",
        "sae.eval()\n",
        "with torch.inference_mode():\n",
        "    y_pred = sae(X_test)"
      ]
    },
    {
      "cell_type": "code",
      "execution_count": 25,
      "metadata": {},
      "outputs": [
        {
          "data": {
            "text/plain": [
              "tensor([[True, True, True,  ..., True, True, True],\n",
              "        [True, True, True,  ..., True, True, True],\n",
              "        [True, True, True,  ..., True, True, True],\n",
              "        ...,\n",
              "        [True, True, True,  ..., True, True, True],\n",
              "        [True, True, True,  ..., True, True, True],\n",
              "        [True, True, True,  ..., True, True, True]])"
            ]
          },
          "execution_count": 25,
          "metadata": {},
          "output_type": "execute_result"
        }
      ],
      "source": [
        "inference_sae_preds == y_pred"
      ]
    },
    {
      "cell_type": "code",
      "execution_count": null,
      "metadata": {},
      "outputs": [],
      "source": []
    },
    {
      "cell_type": "markdown",
      "metadata": {},
      "source": [
        "# ------tests--------"
      ]
    },
    {
      "cell_type": "markdown",
      "metadata": {},
      "source": [
        "## testing "
      ]
    },
    {
      "cell_type": "code",
      "execution_count": 8,
      "metadata": {},
      "outputs": [
        {
          "data": {
            "text/plain": [
              "tensor([4., 0., 3.,  ..., 0., 0., 0.])"
            ]
          },
          "execution_count": 8,
          "metadata": {},
          "output_type": "execute_result"
        }
      ],
      "source": [
        "customer = test_set[159,:]\n",
        "customer"
      ]
    },
    {
      "cell_type": "code",
      "execution_count": 10,
      "metadata": {},
      "outputs": [],
      "source": [
        "customer_input = Variable(customer).unsqueeze(0)"
      ]
    },
    {
      "cell_type": "code",
      "execution_count": 44,
      "metadata": {},
      "outputs": [],
      "source": [
        "output = sae(customer_input)\n",
        "# recomovo = torch.tensor(output[:][output[:]>4.5]).unsqueeze(0)\n",
        "torch.where(output>4.5)[1]\n",
        "indexes = torch.where(output>4.5)[1]\n",
        "test_index = indexes.squeeze()\n"
      ]
    },
    {
      "cell_type": "code",
      "execution_count": 55,
      "metadata": {},
      "outputs": [
        {
          "name": "stdout",
          "output_type": "stream",
          "text": [
            "[  63  126  168  356  656 1292 1366 1448]\n"
          ]
        },
        {
          "data": {
            "text/plain": [
              "(8,)"
            ]
          },
          "execution_count": 55,
          "metadata": {},
          "output_type": "execute_result"
        }
      ],
      "source": [
        "numpy_indexes = indexes.numpy()\n",
        "print(numpy_indexes)\n",
        "numpy_indexes.shape\n"
      ]
    },
    {
      "cell_type": "code",
      "execution_count": 46,
      "metadata": {},
      "outputs": [
        {
          "name": "stdout",
          "output_type": "stream",
          "text": [
            "tensor([4.5199, 4.5651, 4.8176, 4.5691, 4.5005, 4.6465, 4.5703, 4.6539],\n",
            "       grad_fn=<IndexBackward0>)\n"
          ]
        }
      ],
      "source": [
        "#printing out the recommended values \n",
        "print(output[:][output[:]>4.5])"
      ]
    },
    {
      "cell_type": "code",
      "execution_count": null,
      "metadata": {},
      "outputs": [],
      "source": [
        "\n",
        "def convert(data,cust_id):\n",
        "  new_data = []\n",
        "  for id_users in range(1, nb_users + 1):\n",
        "    id_movies = data[:, 1] [data[:, 0] == cust_id]\n",
        "    id_ratings = data[:, 2] [data[:, 0] == cust_id]\n",
        "    ratings = np.zeros(nb_movies)\n",
        "    ratings[id_movies - 1] = id_ratings\n",
        "    new_data.append(list(ratings))\n",
        "  return new_data\n",
        "customer = convert(customer,nb_users)\n",
        "customer = torch.FloatTensor(customer)\n",
        "\n",
        "#for one customer ig\n",
        "customer_input = Variable(customer).unsqueeze(0)\n",
        "output = sae(input)"
      ]
    },
    {
      "cell_type": "code",
      "execution_count": null,
      "metadata": {},
      "outputs": [],
      "source": [
        "#original convert \n",
        "def convert(data):\n",
        "  new_data = []\n",
        "  for id_users in range(1, nb_users + 1):\n",
        "    id_movies = data[:, 1] [data[:, 0] == id_users]\n",
        "    id_ratings = data[:, 2] [data[:, 0] == id_users]\n",
        "    ratings = np.zeros(nb_movies)\n",
        "    ratings[id_movies - 1] = id_ratings\n",
        "    new_data.append(list(ratings))\n",
        "  return new_data\n",
        "training_set = convert(training_set)\n",
        "test_set = convert(test_set)\n",
        "\n",
        "training_set = torch.FloatTensor(training_set)\n",
        "test_set = torch.FloatTensor(test_set) "
      ]
    },
    {
      "cell_type": "code",
      "execution_count": null,
      "metadata": {},
      "outputs": [],
      "source": [
        "test_loss = 0\n",
        "s = 0.\n",
        "for id_user in range(nb_users):\n",
        "  input = Variable(training_set[id_user]).unsqueeze(0)\n",
        "  target = Variable(test_set[id_user]).unsqueeze(0)\n",
        "  if torch.sum(target.data > 0) > 0:\n",
        "    output = sae(input)\n",
        "    target.require_grad = False\n",
        "    output[target == 0] = 0\n",
        "    loss = criterion(output, target)\n",
        "    mean_corrector = nb_movies/float(torch.sum(target.data > 0) + 1e-10)\n",
        "    test_loss += np.sqrt(loss.data*mean_corrector)\n",
        "    s += 1.\n",
        "print('test loss: '+str(test_loss/s))\n"
      ]
    },
    {
      "cell_type": "code",
      "execution_count": null,
      "metadata": {},
      "outputs": [],
      "source": [
        "customer = np.zeros(nb_movies)\n",
        "customer"
      ]
    },
    {
      "cell_type": "code",
      "execution_count": null,
      "metadata": {},
      "outputs": [],
      "source": [
        "\n",
        "def convert(data,cust_id):\n",
        "  new_data = []\n",
        "  for id_users in range(1, nb_users + 1):\n",
        "    id_movies = data[:, 1] [data[:, 0] == cust_id]\n",
        "    id_ratings = data[:, 2] [data[:, 0] == cust_id]\n",
        "    ratings = np.zeros(nb_movies)\n",
        "    ratings[id_movies - 1] = id_ratings\n",
        "    new_data.append(list(ratings))\n",
        "  return new_data\n",
        "customer = convert(customer,nb_users)\n",
        "customer = torch.FloatTensor(customer)\n",
        "\n",
        "#for one customer ig\n",
        "input = Variable(customer).unsqueeze(0)\n",
        "output = sae(input)\n",
        "\n",
        "\n"
      ]
    },
    {
      "cell_type": "code",
      "execution_count": null,
      "metadata": {},
      "outputs": [],
      "source": [
        "\n",
        "def convert(data):\n",
        "  new_data = []\n",
        "  for id_users in range(1, nb_users + 1):\n",
        "    id_movies = data[:, 1] [data[:, 0] == id_users]\n",
        "    id_ratings = data[:, 2] [data[:, 0] == id_users]\n",
        "    ratings = np.zeros(nb_movies)\n",
        "    ratings[id_movies - 1] = id_ratings\n",
        "    new_data.append(list(ratings))\n",
        "  return new_data\n",
        "training_set = convert(training_set)\n",
        "test_set = convert(test_set)\n",
        "\n",
        "training_set = torch.FloatTensor(training_set)\n",
        "test_set = torch.FloatTensor(test_set) "
      ]
    }
  ],
  "metadata": {
    "accelerator": "GPU",
    "colab": {
      "collapsed_sections": [],
      "name": "AutoEncoders.ipynb",
      "provenance": [],
      "toc_visible": true
    },
    "kernelspec": {
      "display_name": "Python 3",
      "name": "python3"
    },
    "language_info": {
      "codemirror_mode": {
        "name": "ipython",
        "version": 3
      },
      "file_extension": ".py",
      "mimetype": "text/x-python",
      "name": "python",
      "nbconvert_exporter": "python",
      "pygments_lexer": "ipython3",
      "version": "3.11.5"
    }
  },
  "nbformat": 4,
  "nbformat_minor": 0
}
